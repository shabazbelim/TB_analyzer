{
 "cells": [
  {
   "cell_type": "code",
   "execution_count": 1,
   "metadata": {},
   "outputs": [],
   "source": [
    "from ipywidgets import widgets,Layout\n",
    "from IPython.core.display import display, HTML\n",
    "from IPython.display import clear_output"
   ]
  },
  {
   "cell_type": "code",
   "execution_count": 2,
   "metadata": {},
   "outputs": [
    {
     "name": "stderr",
     "output_type": "stream",
     "text": [
      "Using TensorFlow backend.\n"
     ]
    }
   ],
   "source": [
    "from keras.models import Sequential\n",
    "from keras.layers import Dense\n",
    "from keras.models import model_from_json\n",
    "import numpy\n",
    "import os\n",
    "# fix random seed for reproducibility\n",
    "from numpy.random import seed\n",
    "seed(101)\n",
    "from tensorflow import set_random_seed\n",
    "set_random_seed(101)\n",
    "\n",
    "import pandas as pd\n",
    "import numpy as np\n",
    "\n",
    "import tensorflow\n",
    "\n",
    "from tensorflow.keras.models import Sequential\n",
    "from tensorflow.keras.layers import Dense, Dropout, Conv2D, MaxPooling2D, Flatten\n",
    "from tensorflow.keras.optimizers import Adam\n",
    "from tensorflow.keras.metrics import categorical_crossentropy\n",
    "from tensorflow.keras.preprocessing.image import ImageDataGenerator\n",
    "from tensorflow.keras.models import Model\n",
    "from tensorflow.keras.callbacks import EarlyStopping, ReduceLROnPlateau, ModelCheckpoint\n",
    "from tensorflow.keras.metrics import binary_accuracy\n",
    "\n",
    "import os\n",
    "import cv2\n",
    "import glob\n",
    "import imageio\n",
    "import skimage\n",
    "import skimage.io\n",
    "import skimage.transform\n",
    "\n",
    "from sklearn.utils import shuffle\n",
    "from sklearn.metrics import confusion_matrix\n",
    "from sklearn.model_selection import train_test_split\n",
    "import itertools\n",
    "import shutil\n",
    "import matplotlib.pyplot as plt\n",
    "%matplotlib inline\n",
    "import os, sys \n",
    "from tkinter import filedialog\n",
    "from shutil import copyfile, copy\n",
    "import shutil"
   ]
  },
  {
   "cell_type": "code",
   "execution_count": 3,
   "metadata": {},
   "outputs": [],
   "source": [
    "l = Layout(flex='0 1 auto', height='300px', min_height='40px', width='auto')\n",
    "score_output2 = widgets.Output(value='',layout=l)\n",
    "\n",
    "l = Layout(flex='0 1 auto', height='20px', min_height='40px', width='auto')\n",
    "score_output1 = widgets.Output(value='',layout=l)\n",
    "\n",
    "cwd = os.getcwd()"
   ]
  },
  {
   "cell_type": "code",
   "execution_count": 4,
   "metadata": {},
   "outputs": [],
   "source": [
    "def choose_file():\n",
    "    global cwd\n",
    "    path = filedialog.askopenfilename()\n",
    "    copy(path, '/'.join([cwd,\"base_dir/test/Tuberculosis/\"]))\n",
    "    return 0"
   ]
  },
  {
   "cell_type": "code",
   "execution_count": 5,
   "metadata": {},
   "outputs": [],
   "source": [
    "model = None\n",
    "NUM_AUG_IMAGES_WANTED = 1000 \n",
    "IMAGE_HEIGHT = 96\n",
    "IMAGE_WIDTH = 96\n",
    "\n",
    "\n",
    "kernel_size = (3,3)\n",
    "pool_size= (2,2)\n",
    "first_filters = 32\n",
    "second_filters = 64\n",
    "third_filters = 128\n",
    "\n",
    "dropout_conv = 0.3\n",
    "dropout_dense = 0.3\n",
    "\n",
    "if(model==None):\n",
    "    model = Sequential()\n",
    "    model.add(Conv2D(first_filters, kernel_size, activation = 'relu', \n",
    "                     input_shape = (IMAGE_HEIGHT, IMAGE_WIDTH, 3)))\n",
    "    model.add(Conv2D(first_filters, kernel_size, activation = 'relu'))\n",
    "    model.add(Conv2D(first_filters, kernel_size, activation = 'relu'))\n",
    "    model.add(MaxPooling2D(pool_size = pool_size)) \n",
    "    model.add(Dropout(dropout_conv))\n",
    "\n",
    "    model.add(Conv2D(second_filters, kernel_size, activation ='relu'))\n",
    "    model.add(Conv2D(second_filters, kernel_size, activation ='relu'))\n",
    "    model.add(Conv2D(second_filters, kernel_size, activation ='relu'))\n",
    "    model.add(MaxPooling2D(pool_size = pool_size))\n",
    "    model.add(Dropout(dropout_conv))\n",
    "\n",
    "    model.add(Conv2D(third_filters, kernel_size, activation ='relu'))\n",
    "    model.add(Conv2D(third_filters, kernel_size, activation ='relu'))\n",
    "    model.add(Conv2D(third_filters, kernel_size, activation ='relu'))\n",
    "    model.add(MaxPooling2D(pool_size = pool_size))\n",
    "    model.add(Dropout(dropout_conv))\n",
    "\n",
    "    model.add(Flatten())\n",
    "    model.add(Dense(256, activation = \"relu\"))\n",
    "    model.add(Dropout(dropout_dense))\n",
    "    model.add(Dense(2, activation = \"softmax\"))\n",
    "    model.load_weights(\"model.h5\")\n",
    "    \n",
    "def tb_analyzer():\n",
    "    global model\n",
    "    global cwd\n",
    "    valid_path = 'base_dir/test'\n",
    "    num_val_samples = 1\n",
    "    val_batch_size = 1\n",
    "    val_steps = np.ceil(num_val_samples / val_batch_size)\n",
    "    datagen = ImageDataGenerator(rescale=1.0/255)\n",
    "    test_gen = datagen.flow_from_directory(valid_path,\n",
    "                                        target_size=(IMAGE_HEIGHT,IMAGE_WIDTH),\n",
    "                                        batch_size=val_batch_size,\n",
    "                                        class_mode='categorical',\n",
    "                                        shuffle=False)\n",
    "    predictions = model.predict_generator(test_gen, steps=val_steps, verbose=2)\n",
    "    files = glob.glob('/'.join([cwd,'base_dir/test/Tuberculosis/*']))\n",
    "    for f in files:\n",
    "        with score_output2:\n",
    "            img = cv2.imread(f)\n",
    "            plt.imshow(img)\n",
    "            plt.show()\n",
    "        os.remove(f)\n",
    "        \n",
    "    if(predictions[0][1]>0.5):\n",
    "        return 'Person has TB'\n",
    "    else:\n",
    "        return 'Person dont have TB'\n",
    "    \n",
    "    \n",
    "def sender(sender):\n",
    "    score_output1.clear_output()\n",
    "    score_output2.clear_output()\n",
    "    with score_output1:\n",
    "        print(\"Getting answer . . . .\")\n",
    "    file = choose_file()\n",
    "    pred = tb_analyzer()\n",
    "    score_output1.clear_output()\n",
    "    with score_output1:\n",
    "        print(pred)"
   ]
  },
  {
   "cell_type": "code",
   "execution_count": 6,
   "metadata": {},
   "outputs": [
    {
     "data": {
      "application/vnd.jupyter.widget-view+json": {
       "model_id": "979933ec6a9b4b4cbeaaafa0ea3cdbe6",
       "version_major": 2,
       "version_minor": 0
      },
      "text/plain": [
       "Button(description='Select X-Ray', layout=Layout(height='30px', width='50%'), style=ButtonStyle(button_color='…"
      ]
     },
     "metadata": {},
     "output_type": "display_data"
    },
    {
     "name": "stdout",
     "output_type": "stream",
     "text": [
      "Found 1 images belonging to 1 classes.\n"
     ]
    }
   ],
   "source": [
    "button1 = widgets.Button(description='Select X-Ray',layout=Layout(width='50%',height='30px'))\n",
    "button1.style.button_color = '#2196f3'\n",
    "display(button1)\n",
    "button1.on_click(sender)"
   ]
  },
  {
   "cell_type": "code",
   "execution_count": 7,
   "metadata": {},
   "outputs": [
    {
     "data": {
      "application/vnd.jupyter.widget-view+json": {
       "model_id": "d4159014b68e4df79ab33d28dc287c05",
       "version_major": 2,
       "version_minor": 0
      },
      "text/plain": [
       "Output(layout=Layout(flex='0 1 auto', height='200px', min_height='40px', width='auto'))"
      ]
     },
     "metadata": {},
     "output_type": "display_data"
    }
   ],
   "source": [
    "score_output2"
   ]
  },
  {
   "cell_type": "code",
   "execution_count": 8,
   "metadata": {},
   "outputs": [
    {
     "data": {
      "application/vnd.jupyter.widget-view+json": {
       "model_id": "ea4f8ee94fad4e82ae41952b579a7a82",
       "version_major": 2,
       "version_minor": 0
      },
      "text/plain": [
       "Output(layout=Layout(flex='0 1 auto', height='20px', min_height='40px', width='auto'))"
      ]
     },
     "metadata": {},
     "output_type": "display_data"
    }
   ],
   "source": [
    "score_output1"
   ]
  },
  {
   "cell_type": "code",
   "execution_count": null,
   "metadata": {},
   "outputs": [],
   "source": []
  },
  {
   "cell_type": "code",
   "execution_count": null,
   "metadata": {},
   "outputs": [],
   "source": []
  },
  {
   "cell_type": "code",
   "execution_count": null,
   "metadata": {},
   "outputs": [],
   "source": []
  },
  {
   "cell_type": "code",
   "execution_count": null,
   "metadata": {},
   "outputs": [],
   "source": []
  },
  {
   "cell_type": "code",
   "execution_count": null,
   "metadata": {},
   "outputs": [],
   "source": []
  },
  {
   "cell_type": "code",
   "execution_count": null,
   "metadata": {},
   "outputs": [],
   "source": []
  },
  {
   "cell_type": "code",
   "execution_count": null,
   "metadata": {},
   "outputs": [],
   "source": []
  },
  {
   "cell_type": "code",
   "execution_count": null,
   "metadata": {},
   "outputs": [],
   "source": []
  },
  {
   "cell_type": "code",
   "execution_count": 9,
   "metadata": {},
   "outputs": [],
   "source": [
    "# # json_file = open('./model_tb_1/model.json', 'r')\n",
    "# # loaded_model_json = json_file.read()\n",
    "# # json_file.close()\n",
    "# # loaded_model = model_from_json(loaded_model_json)\n",
    "# # # load weights into new model\n",
    "# model.load_weights(\"model.h5\")\n",
    "# print(\"Loaded model from disk\")"
   ]
  },
  {
   "cell_type": "code",
   "execution_count": 10,
   "metadata": {},
   "outputs": [],
   "source": [
    "# train_path = 'base_dir/train_dir'\n",
    "# # valid_path = 'base_dir/val_dir'\n",
    "# valid_path = 'base_dir/test'\n",
    "\n",
    "# # num_train_samples = len(df_train)\n",
    "# num_val_samples = 4#len(df_val)\n",
    "# train_batch_size = 10\n",
    "# val_batch_size = 4\n",
    "\n",
    "\n",
    "# # train_steps = np.ceil(num_train_samples / train_batch_size)\n",
    "# val_steps = np.ceil(num_val_samples / val_batch_size)\n",
    "\n",
    "# datagen = ImageDataGenerator(rescale=1.0/255)\n",
    "\n",
    "# # valid_path = '/home/shabaz/Documents/resume/Tuberculosis-TB-Analyzer/base_dir/test'\n",
    "# test_gen = datagen.flow_from_directory(valid_path,\n",
    "#                                         target_size=(IMAGE_HEIGHT,IMAGE_WIDTH),\n",
    "#                                         batch_size=val_batch_size,\n",
    "#                                         class_mode='categorical',\n",
    "#                                         shuffle=False)"
   ]
  },
  {
   "cell_type": "code",
   "execution_count": 11,
   "metadata": {},
   "outputs": [],
   "source": [
    "# predictions = model.predict_generator(test_gen, steps=val_steps, verbose=2)"
   ]
  },
  {
   "cell_type": "code",
   "execution_count": 12,
   "metadata": {},
   "outputs": [],
   "source": [
    "# if(predictions[2][1]>0.5):\n",
    "#     print('person has tuberculosis')\n",
    "# else:\n",
    "#     print('person does not have tuberculosis')"
   ]
  },
  {
   "cell_type": "code",
   "execution_count": 13,
   "metadata": {},
   "outputs": [],
   "source": [
    "# test_gen.filenames "
   ]
  },
  {
   "cell_type": "code",
   "execution_count": 14,
   "metadata": {},
   "outputs": [],
   "source": [
    "# shutil.rmtree('/home/shabaz/Documents/resume/Tuberculosis-TB-Analyzer/base_dir/test/Tuberculosis/*')"
   ]
  },
  {
   "cell_type": "code",
   "execution_count": null,
   "metadata": {},
   "outputs": [],
   "source": []
  },
  {
   "cell_type": "code",
   "execution_count": 15,
   "metadata": {},
   "outputs": [],
   "source": [
    "# shutil.rmtree('/home/shabaz/Documents/resume/Tuberculosis-TB-Analyzer/base_dir/test/Tuberculosis')"
   ]
  },
  {
   "cell_type": "code",
   "execution_count": null,
   "metadata": {},
   "outputs": [],
   "source": []
  },
  {
   "cell_type": "code",
   "execution_count": 19,
   "metadata": {},
   "outputs": [],
   "source": [
    "# cwd"
   ]
  },
  {
   "cell_type": "code",
   "execution_count": 18,
   "metadata": {},
   "outputs": [
    {
     "data": {
      "text/html": [
       "<style id=hide>div.input{display:none;}</style><button type=\"button\"onclick=\"var myStyle = document.getElementById('hide').sheet;myStyle.insertRule('div.input{display:inherit !important;}', 0);\"> </button>"
      ],
      "text/plain": [
       "<IPython.core.display.HTML object>"
      ]
     },
     "metadata": {},
     "output_type": "display_data"
    }
   ],
   "source": [
    "display(HTML(r\"\"\"<style id=hide>div.input{display:none;}</style><button type=\"button\"onclick=\"var myStyle = document.getElementById('hide').sheet;myStyle.insertRule('div.input{display:inherit !important;}', 0);\"> </button>\"\"\"))"
   ]
  },
  {
   "cell_type": "code",
   "execution_count": null,
   "metadata": {},
   "outputs": [],
   "source": []
  }
 ],
 "metadata": {
  "kernelspec": {
   "display_name": "Python 3",
   "language": "python",
   "name": "python3"
  },
  "language_info": {
   "codemirror_mode": {
    "name": "ipython",
    "version": 3
   },
   "file_extension": ".py",
   "mimetype": "text/x-python",
   "name": "python",
   "nbconvert_exporter": "python",
   "pygments_lexer": "ipython3",
   "version": "3.5.2"
  }
 },
 "nbformat": 4,
 "nbformat_minor": 2
}
